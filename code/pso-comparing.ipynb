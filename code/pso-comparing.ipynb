{
 "cells": [
  {
   "cell_type": "code",
   "execution_count": 1,
   "metadata": {},
   "outputs": [],
   "source": [
    "import numpy as np\n",
    "import pandas as pd\n",
    "import geopandas as gpd\n",
    "import libpysal as ps\n",
    "import matplotlib.pyplot as plt\n",
    "\n",
    "from mygwr.gwr import GWR\n",
    "from mygwr.sel_bw import Sel_BW\n",
    "from libpysal.weights import lat2W\n",
    "from multiprocessing.pool import ThreadPool"
   ]
  },
  {
   "cell_type": "code",
   "execution_count": 2,
   "metadata": {},
   "outputs": [],
   "source": [
    "# Spatial eigenvector extraction function for making smooth simulated data\n",
    "\n",
    "def extract_sf(w, style='B'):\n",
    "    w.transform = style\n",
    "    C, ids = ps.weights.full(w)\n",
    "    n = C.shape[0]\n",
    "    M = np.identity(n) - (float(1)/float(n))\n",
    "    MCM = np.dot(np.dot(M,C),M)\n",
    "    vals, vecs = np.linalg.eigh(MCM)\n",
    "    vals, vecs = np.array(vals), np.array(vecs.T)\n",
    "    #Sort vals and vecs because they aren't in decending order in python\n",
    "    pairs = zip(vals, vecs)\n",
    "    svals = sorted(vals, reverse=True)\n",
    "    stups = [None] * len(svals)\n",
    "    for e_val, vector in pairs:\n",
    "        stups[svals.index(e_val)] = (e_val, vector)\n",
    "        svals[svals.index(e_val)] = None\n",
    "    vecs = np.array([x[1] for x in stups])\n",
    "    vals = np.array([x[0] for x in stups])\n",
    "    return vals, vecs"
   ]
  },
  {
   "cell_type": "markdown",
   "metadata": {},
   "source": [
    "# Make data"
   ]
  },
  {
   "cell_type": "code",
   "execution_count": 3,
   "metadata": {},
   "outputs": [],
   "source": [
    "size = 25\n",
    "n = size**2\n",
    "noiselvl = 0.25\n",
    "Wlat = lat2W(nrows=25, ncols=25, rook=False)\n",
    "\n",
    "evals, evecs = extract_sf(Wlat)\n",
    "data = {'global' : 0.5*np.ones((size, size)),\n",
    "        'regional' : evecs[0, :].reshape(size, size), \n",
    "        'local' : evecs[9, :].reshape(size, size)}\n",
    "X = data['regional'].reshape(-1, 1)*1e3\n",
    "\n",
    "betas = evecs[1, :].reshape(-1, 1)\n",
    "y = X*betas + np.random.normal(loc=0, scale=noiselvl, size=(size**2, 1))\n",
    "\n",
    "grids = np.meshgrid(range(size), range(size))\n",
    "coords = np.hstack((grids[0].reshape(-1, 1), grids[1].reshape(-1, 1)))"
   ]
  },
  {
   "cell_type": "code",
   "execution_count": 4,
   "metadata": {},
   "outputs": [
    {
     "data": {
      "image/png": "[encoded data removed]",
      "text/plain": [
       "<Figure size 720x360 with 4 Axes>"
      ]
     },
     "metadata": {
      "needs_background": "light"
     },
     "output_type": "display_data"
    }
   ],
   "source": [
    "model = GWR(coords, y, X, 200).fit()\n",
    "\n",
    "vmax = max(y.max(), model.predy.max())\n",
    "vmin = min(y.min(), model.predy.min())\n",
    "\n",
    "_, (ax1, ax2) = plt.subplots(ncols=2, figsize=(10, 5))\n",
    "c1 = ax1.imshow(y.reshape(size, size), vmin=vmin, vmax=vmax)\n",
    "c2 = ax2.imshow(model.predy.reshape(size, size), vmin=vmin, vmax=vmax)\n",
    "plt.suptitle(f'AICc = {model.loss()}')\n",
    "plt.colorbar(c1, ax=ax1)\n",
    "plt.colorbar(c2, ax=ax2)\n",
    "plt.show()"
   ]
  },
  {
   "cell_type": "markdown",
   "metadata": {},
   "source": [
    "# Find true optimal bandwidth according to a grid search"
   ]
  },
  {
   "cell_type": "code",
   "execution_count": 6,
   "metadata": {},
   "outputs": [],
   "source": [
    "pool = ThreadPool(10)\n",
    "grid_selector = Sel_BW(coords, y, X, optimizer='grid')\n",
    "grid_results = grid_selector.select(bw_min=2, bw_max=500, full=True, pool=pool)"
   ]
  },
  {
   "cell_type": "code",
   "execution_count": null,
   "metadata": {},
   "outputs": [
    {
     "data": {
      "text/plain": [
       "500"
      ]
     },
     "execution_count": 8,
     "metadata": {},
     "output_type": "execute_result"
    }
   ],
   "source": [
    "grid_results['min']  # true min bw"
   ]
  },
  {
   "cell_type": "markdown",
   "metadata": {},
   "source": [
    "# Play with some PSO parameters"
   ]
  },
  {
   "cell_type": "code",
   "execution_count": null,
   "metadata": {},
   "outputs": [],
   "source": [
    "pso_selector = Sel_BW(coords, y, X, optimizer='pso')\n",
    "\n",
    "inertia_results = dict.fromkeys(np.linspace(1, 2.5, num=15))\n",
    "for inertia_wgt in inertia_results.keys():\n",
    "    pso_results = pso_selector.select(n_particles=10, bw_min=2, bw_max=200, max_iter=25, tol=1e-6, inertia_wgt=1, full=True)\n",
    "pso_results"
   ]
  }
 ],
 "metadata": {
  "interpreter": {
   "hash": "0791d02fd64ab45e1cfd2d247a6cba2eacbeb214b8199737b8885ff57156b146"
  },
  "kernelspec": {
   "display_name": "Python 3.8.10 64-bit ('gds': conda)",
   "language": "python",
   "name": "python3"
  },
  "language_info": {
   "codemirror_mode": {
    "name": "ipython",
    "version": 3
   },
   "file_extension": ".py",
   "mimetype": "text/x-python",
   "name": "python",
   "nbconvert_exporter": "python",
   "pygments_lexer": "ipython3",
   "version": "3.8.10"
  },
  "orig_nbformat": 4
 },
 "nbformat": 4,
 "nbformat_minor": 2
}
